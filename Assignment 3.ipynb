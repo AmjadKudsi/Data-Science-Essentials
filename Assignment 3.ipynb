{
 "cells": [
  {
   "cell_type": "markdown",
   "metadata": {},
   "source": [
    "# Question 1\n",
    "Create a numpy array starting from 2 till 50 with a stepsize of 3."
   ]
  },
  {
   "cell_type": "code",
   "execution_count": 15,
   "metadata": {},
   "outputs": [
    {
     "data": {
      "text/plain": [
       "array([ 2,  5,  8, 11, 14, 17, 20, 23, 26, 29, 32, 35, 38, 41, 44, 47])"
      ]
     },
     "execution_count": 15,
     "metadata": {},
     "output_type": "execute_result"
    }
   ],
   "source": [
    "import numpy as np\n",
    "np.arange(2,50,3)"
   ]
  },
  {
   "cell_type": "markdown",
   "metadata": {},
   "source": [
    "# Question 2\n",
    "Accept two lists of 5 elements each from the user.\n",
    "Convert them to numpy arrays. Concatenate these arrays and print it. Also sort these arrays and print it."
   ]
  },
  {
   "cell_type": "code",
   "execution_count": 19,
   "metadata": {},
   "outputs": [
    {
     "name": "stdout",
     "output_type": "stream",
     "text": [
      "5\n",
      "4\n",
      "3\n",
      "2\n",
      "1\n",
      "0\n",
      "9\n",
      "8\n",
      "7\n",
      "6\n",
      "arr1 =  [5 4 3 2 1]\n",
      "arr2 =  [0 9 8 7 6]\n",
      "arrcon =  [5 4 3 2 1 0 9 8 7 6]\n",
      "arrsort =  [0 1 2 3 4 5 6 7 8 9]\n"
     ]
    }
   ],
   "source": [
    "lst1 = []\n",
    "lst2 = []\n",
    "\n",
    "for i in range(5):\n",
    "    num1 = int(input())\n",
    "    lst1.append(num1)\n",
    "    \n",
    "for i in range(5):\n",
    "    num2 = int(input())\n",
    "    lst2.append(num2)\n",
    "    \n",
    "arr1 = np.array(lst1)\n",
    "print(\"arr1 = \",arr1)\n",
    "arr2 = np.array(lst2)\n",
    "print(\"arr2 = \",arr2)\n",
    "arrcon = np.concatenate((arr1, arr2))\n",
    "print(\"arrcon = \",arrcon)\n",
    "arrcon.sort()\n",
    "print(\"arrsort = \",arrcon)"
   ]
  },
  {
   "cell_type": "markdown",
   "metadata": {},
   "source": [
    "# Question 3\n",
    "Write a code snippet to find the dimensions of a ndarray and its size."
   ]
  },
  {
   "cell_type": "code",
   "execution_count": 28,
   "metadata": {},
   "outputs": [
    {
     "name": "stdout",
     "output_type": "stream",
     "text": [
      "[1 2 3]\n",
      "arr1 dimensions =  1 \n",
      "arr1 size =  3 \n",
      "\n",
      "\n",
      "[[ 1  2  3  4]\n",
      " [ 5  6  7  8]\n",
      " [ 9 10 11 12]]\n",
      "arr2 dimensions =  2 \n",
      "arr2 size =  12 \n",
      "\n",
      "\n",
      "[[[ 1  2  3  4]\n",
      "  [ 5  6  7  8]\n",
      "  [ 9 10 11 12]]\n",
      "\n",
      " [[13 14 15 16]\n",
      "  [17 18 19 20]\n",
      "  [21 22 23 24]]]\n",
      "arr3 dimensions =  3 \n",
      "arr3 size =  24\n"
     ]
    }
   ],
   "source": [
    "arr1 = np.arange(1,4)\n",
    "arr2 = np.arange(1,13).reshape((3, 4))\n",
    "arr3 = np.arange(1,25).reshape((2, 3, 4))\n",
    "\n",
    "print(arr1)\n",
    "print(\"arr1 dimensions = \",arr1.ndim,\"\\narr1 size = \",arr1.size,\"\\n\\n\")\n",
    "print(arr2)\n",
    "print(\"arr2 dimensions = \",arr2.ndim,\"\\narr2 size = \",arr2.size,\"\\n\\n\")\n",
    "print(arr3)\n",
    "print(\"arr3 dimensions = \",arr3.ndim,\"\\narr3 size = \",arr3.size)"
   ]
  },
  {
   "cell_type": "markdown",
   "metadata": {},
   "source": [
    "# Question 4\n",
    "How to convert a 1D array into a 2D array? Demonstrate with the help of a code snippet"
   ]
  },
  {
   "cell_type": "code",
   "execution_count": 42,
   "metadata": {},
   "outputs": [
    {
     "name": "stdout",
     "output_type": "stream",
     "text": [
      "(3, 4)\n",
      "(3, 1, 4)\n"
     ]
    }
   ],
   "source": [
    "x = np.zeros((3, 4)) \n",
    "y = np.expand_dims(x, axis=1)\n",
    "print(x.shape)\n",
    "print(y.shape) "
   ]
  },
  {
   "cell_type": "code",
   "execution_count": 39,
   "metadata": {},
   "outputs": [
    {
     "name": "stdout",
     "output_type": "stream",
     "text": [
      "(5, 5)\n",
      "(1, 5, 5, 1, 1)\n"
     ]
    }
   ],
   "source": [
    "arr = np.arange(5*5).reshape(5,5) \n",
    "print(arr.shape) \n",
    "  \n",
    "newaxes = (0, 3, -1) \n",
    "arr_5D = np.expand_dims(arr, axis=newaxes) \n",
    "print(arr_5D.shape)"
   ]
  },
  {
   "cell_type": "markdown",
   "metadata": {},
   "source": [
    "# Question 5\n",
    "Consider two square numpy arrays. Stack them vertically and horizontally."
   ]
  },
  {
   "cell_type": "code",
   "execution_count": 60,
   "metadata": {},
   "outputs": [
    {
     "name": "stdout",
     "output_type": "stream",
     "text": [
      "arr1 =  [1 2 3]\n",
      "arr2 =  [4 5 6]\n",
      "\n",
      "\n",
      "Horizontally stacked:\n",
      " [1 2 3 4 5 6]\n",
      "\n",
      "Vertically stacked:\n",
      " [[1 2 3]\n",
      " [4 5 6]]\n"
     ]
    }
   ],
   "source": [
    "arr3 = np.arange(1,4)\n",
    "arr4 = np.arange(4,7)\n",
    "print(\"arr1 = \",arr3)\n",
    "print(\"arr2 = \",arr4)\n",
    "\n",
    "hstak = np.hstack((arr3, arr4)) \n",
    "print(\"\\n\\nHorizontally stacked:\\n\",hstak)\n",
    "vstak = np.vstack((arr3, arr4)) \n",
    "print(\"\\nVertically stacked:\\n\",vstak)"
   ]
  },
  {
   "cell_type": "markdown",
   "metadata": {},
   "source": [
    "# Question 6\n",
    "How to get unique items and counts of unique items?"
   ]
  },
  {
   "cell_type": "code",
   "execution_count": 72,
   "metadata": {},
   "outputs": [
    {
     "name": "stdout",
     "output_type": "stream",
     "text": [
      "Original array:  [1 1 1 1 1 1 1 2 2 3 3 3 3 3 4 4 4 4 4 4 5 5 5 6 6 6 6 7 7 7 7 7 7 7]\n",
      "\n",
      "We can get the unique values of the list by using the numpy unique function\n",
      "\n",
      "Unique Values :  [1 2 3 4 5 6 7]\n",
      "Occurrence Count :  [7 2 5 6 3 4 7]\n"
     ]
    }
   ],
   "source": [
    "lst = np.array([1,1,1,1,1,1,1,2,2,3,3,3,3,3,4,4,4,4,4,4,5,5,5,6,6,6,6,7,7,7,7,7,7,7])\n",
    "print('Original array: ' ,lst)\n",
    "\n",
    "print(\"\\nWe can get the unique values of the list by using the numpy unique function\\n\")\n",
    "\n",
    "uniqueValues, occurCount = np.unique(lst, return_counts=True)\n",
    "print(\"Unique Values : \" , uniqueValues)\n",
    "print(\"Occurrence Count : \", occurCount)"
   ]
  }
 ],
 "metadata": {
  "kernelspec": {
   "display_name": "Python 3",
   "language": "python",
   "name": "python3"
  },
  "language_info": {
   "codemirror_mode": {
    "name": "ipython",
    "version": 3
   },
   "file_extension": ".py",
   "mimetype": "text/x-python",
   "name": "python",
   "nbconvert_exporter": "python",
   "pygments_lexer": "ipython3",
   "version": "3.7.6"
  },
  "toc": {
   "base_numbering": 1,
   "nav_menu": {},
   "number_sections": true,
   "sideBar": true,
   "skip_h1_title": false,
   "title_cell": "Table of Contents",
   "title_sidebar": "Contents",
   "toc_cell": false,
   "toc_position": {},
   "toc_section_display": true,
   "toc_window_display": false
  }
 },
 "nbformat": 4,
 "nbformat_minor": 4
}
